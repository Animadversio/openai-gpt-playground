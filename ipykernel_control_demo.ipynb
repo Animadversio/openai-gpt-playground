{
 "cells": [
  {
   "cell_type": "markdown",
   "metadata": {},
   "source": [
    "https://ipython.readthedocs.io/en/stable/api/generated/IPython.core.interactiveshell.html"
   ]
  },
  {
   "cell_type": "code",
   "execution_count": 3,
   "metadata": {},
   "outputs": [],
   "source": [
    "import io\n",
    "import IPython\n",
    "from IPython.core.interactiveshell import InteractiveShell"
   ]
  },
  {
   "cell_type": "code",
   "execution_count": null,
   "metadata": {},
   "outputs": [],
   "source": [
    "import base64\n",
    "from PIL import Image\n",
    "import numpy as np\n",
    "from io import BytesIO\n",
    "from IPython.utils.capture import RichOutput\n",
    "def richoutput_to_image(output):\n",
    "    try:\n",
    "        assert isinstance(output, RichOutput)\n",
    "        # assert output.data['image/png']\n",
    "        if \"image/png\" in output.data:\n",
    "            image_data = output.data['image/png']\n",
    "            image_data = base64.b64decode(image_data)\n",
    "            image = Image.open(BytesIO(image_data))\n",
    "            return image\n",
    "        elif \"text/html\" in output.data:\n",
    "            html = output.data['text/html']\n",
    "            return html\n",
    "        elif \"text/plain\" in output.data:\n",
    "            # note mostly text/plain and text/html co exist. not one or the other. \n",
    "            text = output.data['text/plain']\n",
    "            return text\n",
    "    except AssertionError and KeyError:\n",
    "        return None"
   ]
  },
  {
   "cell_type": "code",
   "execution_count": 4,
   "metadata": {},
   "outputs": [],
   "source": [
    "def ipyshell_code_exec(shell, code, verbose=False):\n",
    "    with IPython.utils.io.capture_output() as captured:\n",
    "        # Execute the code\n",
    "        out = shell.run_cell(code)\n",
    "    if verbose:\n",
    "        print(\"Result of the code execution: \", type(out.result), \"\\n\", out.result)\n",
    "        print(\"Standard Output:\", captured.stdout)\n",
    "        print(\"Standard Error:\", captured.stderr)\n",
    "        print(\"Captured Outputs:\", captured.outputs)\n",
    "    disp_images = []\n",
    "    if captured.outputs:\n",
    "        for display_output in captured.outputs:\n",
    "            # Process each display output as needed\n",
    "            disp_images.append(richoutput_to_image(display_output))\n",
    "    # note stdout returns a string\n",
    "    # out.result returns real objects like tensors! important!\n",
    "    return out, captured, disp_images\n",
    "\n",
    "\n",
    "def ipyshell_get_var(shell, var_name):\n",
    "    return shell.user_ns[var_name]"
   ]
  },
  {
   "cell_type": "code",
   "execution_count": 21,
   "metadata": {},
   "outputs": [],
   "source": [
    "shell = InteractiveShell.instance()"
   ]
  },
  {
   "cell_type": "code",
   "execution_count": 27,
   "metadata": {},
   "outputs": [
    {
     "name": "stdout",
     "output_type": "stream",
     "text": [
      "Result of the code execution:  <class 'NoneType'> \n",
      " None\n",
      "Standard Output: \n",
      "Standard Error: \n",
      "Captured Outputs: [<IPython.utils.capture.RichOutput object at 0x147141e90>]\n"
     ]
    }
   ],
   "source": [
    "code = \"\"\"\n",
    "import matplotlib.pyplot as plt\n",
    "import numpy as np\n",
    "import pandas as pd\n",
    "df = pd.DataFrame(np.random.randn(10, 4), columns=list('ABCD'))\n",
    "df\n",
    "\"\"\"\n",
    "out, captured, disp_images = ipyshell_code_exec(shell, code, verbose=True)\n",
    "# captured.show()"
   ]
  },
  {
   "cell_type": "code",
   "execution_count": null,
   "metadata": {},
   "outputs": [
    {
     "data": {
      "text/html": [
       "<div>\n",
       "<style scoped>\n",
       "    .dataframe tbody tr th:only-of-type {\n",
       "        vertical-align: middle;\n",
       "    }\n",
       "\n",
       "    .dataframe tbody tr th {\n",
       "        vertical-align: top;\n",
       "    }\n",
       "\n",
       "    .dataframe thead th {\n",
       "        text-align: right;\n",
       "    }\n",
       "</style>\n",
       "<table border=\"1\" class=\"dataframe\">\n",
       "  <thead>\n",
       "    <tr style=\"text-align: right;\">\n",
       "      <th></th>\n",
       "      <th>A</th>\n",
       "      <th>B</th>\n",
       "      <th>C</th>\n",
       "      <th>D</th>\n",
       "    </tr>\n",
       "  </thead>\n",
       "  <tbody>\n",
       "    <tr>\n",
       "      <th>0</th>\n",
       "      <td>0.663396</td>\n",
       "      <td>0.547157</td>\n",
       "      <td>-0.514295</td>\n",
       "      <td>0.732124</td>\n",
       "    </tr>\n",
       "    <tr>\n",
       "      <th>1</th>\n",
       "      <td>1.777584</td>\n",
       "      <td>-1.233883</td>\n",
       "      <td>0.934941</td>\n",
       "      <td>0.476842</td>\n",
       "    </tr>\n",
       "    <tr>\n",
       "      <th>2</th>\n",
       "      <td>-0.270366</td>\n",
       "      <td>-1.093148</td>\n",
       "      <td>-0.288930</td>\n",
       "      <td>0.008554</td>\n",
       "    </tr>\n",
       "    <tr>\n",
       "      <th>3</th>\n",
       "      <td>-0.271550</td>\n",
       "      <td>1.253009</td>\n",
       "      <td>-1.788234</td>\n",
       "      <td>-0.297547</td>\n",
       "    </tr>\n",
       "    <tr>\n",
       "      <th>4</th>\n",
       "      <td>-0.616244</td>\n",
       "      <td>1.645461</td>\n",
       "      <td>1.653422</td>\n",
       "      <td>0.356918</td>\n",
       "    </tr>\n",
       "    <tr>\n",
       "      <th>5</th>\n",
       "      <td>-0.311488</td>\n",
       "      <td>0.483580</td>\n",
       "      <td>-1.343989</td>\n",
       "      <td>-0.076683</td>\n",
       "    </tr>\n",
       "    <tr>\n",
       "      <th>6</th>\n",
       "      <td>-0.571415</td>\n",
       "      <td>-0.416898</td>\n",
       "      <td>0.187642</td>\n",
       "      <td>-1.391262</td>\n",
       "    </tr>\n",
       "    <tr>\n",
       "      <th>7</th>\n",
       "      <td>-1.091776</td>\n",
       "      <td>0.325290</td>\n",
       "      <td>-1.459464</td>\n",
       "      <td>1.350037</td>\n",
       "    </tr>\n",
       "    <tr>\n",
       "      <th>8</th>\n",
       "      <td>0.481904</td>\n",
       "      <td>1.225405</td>\n",
       "      <td>0.945122</td>\n",
       "      <td>-1.949367</td>\n",
       "    </tr>\n",
       "    <tr>\n",
       "      <th>9</th>\n",
       "      <td>1.309722</td>\n",
       "      <td>2.002369</td>\n",
       "      <td>0.935231</td>\n",
       "      <td>0.447071</td>\n",
       "    </tr>\n",
       "  </tbody>\n",
       "</table>\n",
       "</div>"
      ],
      "text/plain": [
       "          A         B         C         D\n",
       "0  0.663396  0.547157 -0.514295  0.732124\n",
       "1  1.777584 -1.233883  0.934941  0.476842\n",
       "2 -0.270366 -1.093148 -0.288930  0.008554\n",
       "3 -0.271550  1.253009 -1.788234 -0.297547\n",
       "4 -0.616244  1.645461  1.653422  0.356918\n",
       "5 -0.311488  0.483580 -1.343989 -0.076683\n",
       "6 -0.571415 -0.416898  0.187642 -1.391262\n",
       "7 -1.091776  0.325290 -1.459464  1.350037\n",
       "8  0.481904  1.225405  0.945122 -1.949367\n",
       "9  1.309722  2.002369  0.935231  0.447071"
      ]
     },
     "metadata": {},
     "output_type": "display_data"
    }
   ],
   "source": [
    "ipyshell_get_var(shell, 'df')"
   ]
  },
  {
   "cell_type": "code",
   "execution_count": null,
   "metadata": {},
   "outputs": [
    {
     "data": {
      "text/plain": [
       "array([ 0.        ,  0.1010101 ,  0.2020202 ,  0.3030303 ,  0.4040404 ,\n",
       "        0.50505051,  0.60606061,  0.70707071,  0.80808081,  0.90909091,\n",
       "        1.01010101,  1.11111111,  1.21212121,  1.31313131,  1.41414141,\n",
       "        1.51515152,  1.61616162,  1.71717172,  1.81818182,  1.91919192,\n",
       "        2.02020202,  2.12121212,  2.22222222,  2.32323232,  2.42424242,\n",
       "        2.52525253,  2.62626263,  2.72727273,  2.82828283,  2.92929293,\n",
       "        3.03030303,  3.13131313,  3.23232323,  3.33333333,  3.43434343,\n",
       "        3.53535354,  3.63636364,  3.73737374,  3.83838384,  3.93939394,\n",
       "        4.04040404,  4.14141414,  4.24242424,  4.34343434,  4.44444444,\n",
       "        4.54545455,  4.64646465,  4.74747475,  4.84848485,  4.94949495,\n",
       "        5.05050505,  5.15151515,  5.25252525,  5.35353535,  5.45454545,\n",
       "        5.55555556,  5.65656566,  5.75757576,  5.85858586,  5.95959596,\n",
       "        6.06060606,  6.16161616,  6.26262626,  6.36363636,  6.46464646,\n",
       "        6.56565657,  6.66666667,  6.76767677,  6.86868687,  6.96969697,\n",
       "        7.07070707,  7.17171717,  7.27272727,  7.37373737,  7.47474747,\n",
       "        7.57575758,  7.67676768,  7.77777778,  7.87878788,  7.97979798,\n",
       "        8.08080808,  8.18181818,  8.28282828,  8.38383838,  8.48484848,\n",
       "        8.58585859,  8.68686869,  8.78787879,  8.88888889,  8.98989899,\n",
       "        9.09090909,  9.19191919,  9.29292929,  9.39393939,  9.49494949,\n",
       "        9.5959596 ,  9.6969697 ,  9.7979798 ,  9.8989899 , 10.        ])"
      ]
     },
     "metadata": {},
     "output_type": "display_data"
    }
   ],
   "source": [
    "ipyshell_get_var(shell, 'x')"
   ]
  },
  {
   "cell_type": "code",
   "execution_count": null,
   "metadata": {},
   "outputs": [
    {
     "name": "stdout",
     "output_type": "stream",
     "text": [
      "Result of the code execution:  <class 'torchvision.models.resnet.ResNet'> \n",
      " ResNet(\n",
      "  (conv1): Conv2d(3, 64, kernel_size=(7, 7), stride=(2, 2), padding=(3, 3), bias=False)\n",
      "  (bn1): BatchNorm2d(64, eps=1e-05, momentum=0.1, affine=True, track_running_stats=True)\n",
      "  (relu): ReLU(inplace=True)\n",
      "  (maxpool): MaxPool2d(kernel_size=3, stride=2, padding=1, dilation=1, ceil_mode=False)\n",
      "  (layer1): Sequential(\n",
      "    (0): BasicBlock(\n",
      "      (conv1): Conv2d(64, 64, kernel_size=(3, 3), stride=(1, 1), padding=(1, 1), bias=False)\n",
      "      (bn1): BatchNorm2d(64, eps=1e-05, momentum=0.1, affine=True, track_running_stats=True)\n",
      "      (relu): ReLU(inplace=True)\n",
      "      (conv2): Conv2d(64, 64, kernel_size=(3, 3), stride=(1, 1), padding=(1, 1), bias=False)\n",
      "      (bn2): BatchNorm2d(64, eps=1e-05, momentum=0.1, affine=True, track_running_stats=True)\n",
      "    )\n",
      "    (1): BasicBlock(\n",
      "      (conv1): Conv2d(64, 64, kernel_size=(3, 3), stride=(1, 1), padding=(1, 1), bias=False)\n",
      "      (bn1): BatchNorm2d(64, eps=1e-05, momentum=0.1, affine=True, track_running_stats=True)\n",
      "      (relu): ReLU(inplace=True)\n",
      "      (conv2): Conv2d(64, 64, kernel_size=(3, 3), stride=(1, 1), padding=(1, 1), bias=False)\n",
      "      (bn2): BatchNorm2d(64, eps=1e-05, momentum=0.1, affine=True, track_running_stats=True)\n",
      "    )\n",
      "  )\n",
      "  (layer2): Sequential(\n",
      "    (0): BasicBlock(\n",
      "      (conv1): Conv2d(64, 128, kernel_size=(3, 3), stride=(2, 2), padding=(1, 1), bias=False)\n",
      "      (bn1): BatchNorm2d(128, eps=1e-05, momentum=0.1, affine=True, track_running_stats=True)\n",
      "      (relu): ReLU(inplace=True)\n",
      "      (conv2): Conv2d(128, 128, kernel_size=(3, 3), stride=(1, 1), padding=(1, 1), bias=False)\n",
      "      (bn2): BatchNorm2d(128, eps=1e-05, momentum=0.1, affine=True, track_running_stats=True)\n",
      "      (downsample): Sequential(\n",
      "        (0): Conv2d(64, 128, kernel_size=(1, 1), stride=(2, 2), bias=False)\n",
      "        (1): BatchNorm2d(128, eps=1e-05, momentum=0.1, affine=True, track_running_stats=True)\n",
      "      )\n",
      "    )\n",
      "    (1): BasicBlock(\n",
      "      (conv1): Conv2d(128, 128, kernel_size=(3, 3), stride=(1, 1), padding=(1, 1), bias=False)\n",
      "      (bn1): BatchNorm2d(128, eps=1e-05, momentum=0.1, affine=True, track_running_stats=True)\n",
      "      (relu): ReLU(inplace=True)\n",
      "      (conv2): Conv2d(128, 128, kernel_size=(3, 3), stride=(1, 1), padding=(1, 1), bias=False)\n",
      "      (bn2): BatchNorm2d(128, eps=1e-05, momentum=0.1, affine=True, track_running_stats=True)\n",
      "    )\n",
      "  )\n",
      "  (layer3): Sequential(\n",
      "    (0): BasicBlock(\n",
      "      (conv1): Conv2d(128, 256, kernel_size=(3, 3), stride=(2, 2), padding=(1, 1), bias=False)\n",
      "      (bn1): BatchNorm2d(256, eps=1e-05, momentum=0.1, affine=True, track_running_stats=True)\n",
      "      (relu): ReLU(inplace=True)\n",
      "      (conv2): Conv2d(256, 256, kernel_size=(3, 3), stride=(1, 1), padding=(1, 1), bias=False)\n",
      "      (bn2): BatchNorm2d(256, eps=1e-05, momentum=0.1, affine=True, track_running_stats=True)\n",
      "      (downsample): Sequential(\n",
      "        (0): Conv2d(128, 256, kernel_size=(1, 1), stride=(2, 2), bias=False)\n",
      "        (1): BatchNorm2d(256, eps=1e-05, momentum=0.1, affine=True, track_running_stats=True)\n",
      "      )\n",
      "    )\n",
      "    (1): BasicBlock(\n",
      "      (conv1): Conv2d(256, 256, kernel_size=(3, 3), stride=(1, 1), padding=(1, 1), bias=False)\n",
      "      (bn1): BatchNorm2d(256, eps=1e-05, momentum=0.1, affine=True, track_running_stats=True)\n",
      "      (relu): ReLU(inplace=True)\n",
      "      (conv2): Conv2d(256, 256, kernel_size=(3, 3), stride=(1, 1), padding=(1, 1), bias=False)\n",
      "      (bn2): BatchNorm2d(256, eps=1e-05, momentum=0.1, affine=True, track_running_stats=True)\n",
      "    )\n",
      "  )\n",
      "  (layer4): Sequential(\n",
      "    (0): BasicBlock(\n",
      "      (conv1): Conv2d(256, 512, kernel_size=(3, 3), stride=(2, 2), padding=(1, 1), bias=False)\n",
      "      (bn1): BatchNorm2d(512, eps=1e-05, momentum=0.1, affine=True, track_running_stats=True)\n",
      "      (relu): ReLU(inplace=True)\n",
      "      (conv2): Conv2d(512, 512, kernel_size=(3, 3), stride=(1, 1), padding=(1, 1), bias=False)\n",
      "      (bn2): BatchNorm2d(512, eps=1e-05, momentum=0.1, affine=True, track_running_stats=True)\n",
      "      (downsample): Sequential(\n",
      "        (0): Conv2d(256, 512, kernel_size=(1, 1), stride=(2, 2), bias=False)\n",
      "        (1): BatchNorm2d(512, eps=1e-05, momentum=0.1, affine=True, track_running_stats=True)\n",
      "      )\n",
      "    )\n",
      "    (1): BasicBlock(\n",
      "      (conv1): Conv2d(512, 512, kernel_size=(3, 3), stride=(1, 1), padding=(1, 1), bias=False)\n",
      "      (bn1): BatchNorm2d(512, eps=1e-05, momentum=0.1, affine=True, track_running_stats=True)\n",
      "      (relu): ReLU(inplace=True)\n",
      "      (conv2): Conv2d(512, 512, kernel_size=(3, 3), stride=(1, 1), padding=(1, 1), bias=False)\n",
      "      (bn2): BatchNorm2d(512, eps=1e-05, momentum=0.1, affine=True, track_running_stats=True)\n",
      "    )\n",
      "  )\n",
      "  (avgpool): AdaptiveAvgPool2d(output_size=(1, 1))\n",
      "  (fc): Linear(in_features=512, out_features=1000, bias=True)\n",
      ")\n",
      "Standard Output: Out[1]: \n",
      "ResNet(\n",
      "  (conv1): Conv2d(3, 64, kernel_size=(7, 7), stride=(2, 2), padding=(3, 3), bias=False)\n",
      "  (bn1): BatchNorm2d(64, eps=1e-05, momentum=0.1, affine=True, track_running_stats=True)\n",
      "  (relu): ReLU(inplace=True)\n",
      "  (maxpool): MaxPool2d(kernel_size=3, stride=2, padding=1, dilation=1, ceil_mode=False)\n",
      "  (layer1): Sequential(\n",
      "    (0): BasicBlock(\n",
      "      (conv1): Conv2d(64, 64, kernel_size=(3, 3), stride=(1, 1), padding=(1, 1), bias=False)\n",
      "      (bn1): BatchNorm2d(64, eps=1e-05, momentum=0.1, affine=True, track_running_stats=True)\n",
      "      (relu): ReLU(inplace=True)\n",
      "      (conv2): Conv2d(64, 64, kernel_size=(3, 3), stride=(1, 1), padding=(1, 1), bias=False)\n",
      "      (bn2): BatchNorm2d(64, eps=1e-05, momentum=0.1, affine=True, track_running_stats=True)\n",
      "    )\n",
      "    (1): BasicBlock(\n",
      "      (conv1): Conv2d(64, 64, kernel_size=(3, 3), stride=(1, 1), padding=(1, 1), bias=False)\n",
      "      (bn1): BatchNorm2d(64, eps=1e-05, momentum=0.1, affine=True, track_running_stats=True)\n",
      "      (relu): ReLU(inplace=True)\n",
      "      (conv2): Conv2d(64, 64, kernel_size=(3, 3), stride=(1, 1), padding=(1, 1), bias=False)\n",
      "      (bn2): BatchNorm2d(64, eps=1e-05, momentum=0.1, affine=True, track_running_stats=True)\n",
      "    )\n",
      "  )\n",
      "  (layer2): Sequential(\n",
      "    (0): BasicBlock(\n",
      "      (conv1): Conv2d(64, 128, kernel_size=(3, 3), stride=(2, 2), padding=(1, 1), bias=False)\n",
      "      (bn1): BatchNorm2d(128, eps=1e-05, momentum=0.1, affine=True, track_running_stats=True)\n",
      "      (relu): ReLU(inplace=True)\n",
      "      (conv2): Conv2d(128, 128, kernel_size=(3, 3), stride=(1, 1), padding=(1, 1), bias=False)\n",
      "      (bn2): BatchNorm2d(128, eps=1e-05, momentum=0.1, affine=True, track_running_stats=True)\n",
      "      (downsample): Sequential(\n",
      "        (0): Conv2d(64, 128, kernel_size=(1, 1), stride=(2, 2), bias=False)\n",
      "        (1): BatchNorm2d(128, eps=1e-05, momentum=0.1, affine=True, track_running_stats=True)\n",
      "      )\n",
      "    )\n",
      "    (1): BasicBlock(\n",
      "      (conv1): Conv2d(128, 128, kernel_size=(3, 3), stride=(1, 1), padding=(1, 1), bias=False)\n",
      "      (bn1): BatchNorm2d(128, eps=1e-05, momentum=0.1, affine=True, track_running_stats=True)\n",
      "      (relu): ReLU(inplace=True)\n",
      "      (conv2): Conv2d(128, 128, kernel_size=(3, 3), stride=(1, 1), padding=(1, 1), bias=False)\n",
      "      (bn2): BatchNorm2d(128, eps=1e-05, momentum=0.1, affine=True, track_running_stats=True)\n",
      "    )\n",
      "  )\n",
      "  (layer3): Sequential(\n",
      "    (0): BasicBlock(\n",
      "      (conv1): Conv2d(128, 256, kernel_size=(3, 3), stride=(2, 2), padding=(1, 1), bias=False)\n",
      "      (bn1): BatchNorm2d(256, eps=1e-05, momentum=0.1, affine=True, track_running_stats=True)\n",
      "      (relu): ReLU(inplace=True)\n",
      "      (conv2): Conv2d(256, 256, kernel_size=(3, 3), stride=(1, 1), padding=(1, 1), bias=False)\n",
      "      (bn2): BatchNorm2d(256, eps=1e-05, momentum=0.1, affine=True, track_running_stats=True)\n",
      "      (downsample): Sequential(\n",
      "        (0): Conv2d(128, 256, kernel_size=(1, 1), stride=(2, 2), bias=False)\n",
      "        (1): BatchNorm2d(256, eps=1e-05, momentum=0.1, affine=True, track_running_stats=True)\n",
      "      )\n",
      "    )\n",
      "    (1): BasicBlock(\n",
      "      (conv1): Conv2d(256, 256, kernel_size=(3, 3), stride=(1, 1), padding=(1, 1), bias=False)\n",
      "      (bn1): BatchNorm2d(256, eps=1e-05, momentum=0.1, affine=True, track_running_stats=True)\n",
      "      (relu): ReLU(inplace=True)\n",
      "      (conv2): Conv2d(256, 256, kernel_size=(3, 3), stride=(1, 1), padding=(1, 1), bias=False)\n",
      "      (bn2): BatchNorm2d(256, eps=1e-05, momentum=0.1, affine=True, track_running_stats=True)\n",
      "    )\n",
      "  )\n",
      "  (layer4): Sequential(\n",
      "    (0): BasicBlock(\n",
      "      (conv1): Conv2d(256, 512, kernel_size=(3, 3), stride=(2, 2), padding=(1, 1), bias=False)\n",
      "      (bn1): BatchNorm2d(512, eps=1e-05, momentum=0.1, affine=True, track_running_stats=True)\n",
      "      (relu): ReLU(inplace=True)\n",
      "      (conv2): Conv2d(512, 512, kernel_size=(3, 3), stride=(1, 1), padding=(1, 1), bias=False)\n",
      "      (bn2): BatchNorm2d(512, eps=1e-05, momentum=0.1, affine=True, track_running_stats=True)\n",
      "      (downsample): Sequential(\n",
      "        (0): Conv2d(256, 512, kernel_size=(1, 1), stride=(2, 2), bias=False)\n",
      "        (1): BatchNorm2d(512, eps=1e-05, momentum=0.1, affine=True, track_running_stats=True)\n",
      "      )\n",
      "    )\n",
      "    (1): BasicBlock(\n",
      "      (conv1): Conv2d(512, 512, kernel_size=(3, 3), stride=(1, 1), padding=(1, 1), bias=False)\n",
      "      (bn1): BatchNorm2d(512, eps=1e-05, momentum=0.1, affine=True, track_running_stats=True)\n",
      "      (relu): ReLU(inplace=True)\n",
      "      (conv2): Conv2d(512, 512, kernel_size=(3, 3), stride=(1, 1), padding=(1, 1), bias=False)\n",
      "      (bn2): BatchNorm2d(512, eps=1e-05, momentum=0.1, affine=True, track_running_stats=True)\n",
      "    )\n",
      "  )\n",
      "  (avgpool): AdaptiveAvgPool2d(output_size=(1, 1))\n",
      "  (fc): Linear(in_features=512, out_features=1000, bias=True)\n",
      ")\n",
      "\n",
      "Standard Error: /Users/binxuwang/miniforge3/envs/torch/lib/python3.11/site-packages/torchvision/models/_utils.py:208: UserWarning: The parameter 'pretrained' is deprecated since 0.13 and may be removed in the future, please use 'weights' instead.\n",
      "  warnings.warn(\n",
      "/Users/binxuwang/miniforge3/envs/torch/lib/python3.11/site-packages/torchvision/models/_utils.py:223: UserWarning: Arguments other than a weight enum or `None` for 'weights' are deprecated since 0.13 and may be removed in the future. The current behavior is equivalent to passing `weights=ResNet18_Weights.IMAGENET1K_V1`. You can also use `weights=ResNet18_Weights.DEFAULT` to get the most up-to-date weights.\n",
      "  warnings.warn(msg)\n",
      "Downloading: \"https://download.pytorch.org/models/resnet18-f37072fd.pth\" to /Users/binxuwang/.cache/torch/hub/checkpoints/resnet18-f37072fd.pth\n",
      "100%|##########| 44.7M/44.7M [00:01<00:00, 28.9MB/s]\n",
      "\n",
      "Captured Outputs: []\n"
     ]
    }
   ],
   "source": [
    "code = \"\"\"\n",
    "import matplotlib.pyplot as plt\n",
    "import numpy as np\n",
    "import pandas as pd\n",
    "import torch\n",
    "torch.manual_seed(0)\n",
    "import torchvision\n",
    "import torchvision.transforms as transforms\n",
    "import torch.nn as nn\n",
    "import torch.nn.functional as F\n",
    "from torchvision.models import resnet18\n",
    "\n",
    "model = resnet18(pretrained=True)\n",
    "model\n",
    "\"\"\"\n",
    "out, captured, disp_images = ipyshell_code_exec(shell, code, verbose=True)"
   ]
  },
  {
   "cell_type": "code",
   "execution_count": null,
   "metadata": {},
   "outputs": [],
   "source": [
    "code = \"\"\"\n",
    "import matplotlib.pyplot as plt\n",
    "import numpy as np\n",
    "import pandas as pd\n",
    "df = pd.DataFrame(np.random.randn(10, 4), columns=list('ABCD'))\n",
    "df\n",
    "\"\"\"\n",
    "ipyshell_code_exec(shell, code, verbose=False)"
   ]
  },
  {
   "cell_type": "code",
   "execution_count": null,
   "metadata": {},
   "outputs": [
    {
     "ename": "NameError",
     "evalue": "name 'IPython' is not defined",
     "output_type": "error",
     "traceback": [
      "\u001b[0;31m---------------------------------------------------------------------------\u001b[0m\n",
      "\u001b[0;31mNameError\u001b[0m                                 Traceback (most recent call last)\n",
      "Cell \u001b[0;32mIn[1], line 14\u001b[0m\n",
      "\u001b[1;32m      2\u001b[0m code \u001b[38;5;241m=\u001b[39m \u001b[38;5;124m\"\"\"\u001b[39m\n",
      "\u001b[1;32m      3\u001b[0m \u001b[38;5;124mimport matplotlib.pyplot as plt\u001b[39m\n",
      "\u001b[1;32m      4\u001b[0m \u001b[38;5;124mimport numpy as np\u001b[39m\n",
      "\u001b[0;32m   (...)\u001b[0m\n",
      "\u001b[1;32m      7\u001b[0m \u001b[38;5;124mdf\u001b[39m\n",
      "\u001b[1;32m      8\u001b[0m \u001b[38;5;124m\"\"\"\u001b[39m\n",
      "\u001b[1;32m     10\u001b[0m \u001b[38;5;66;03m# Capture the output of the code execution\u001b[39;00m\n",
      "\u001b[1;32m     11\u001b[0m \u001b[38;5;66;03m# output = io.StringIO()\u001b[39;00m\n",
      "\u001b[1;32m     12\u001b[0m \u001b[38;5;66;03m# error = io.StringIO()\u001b[39;00m\n",
      "\u001b[0;32m---> 14\u001b[0m \u001b[38;5;28;01mwith\u001b[39;00m \u001b[43mIPython\u001b[49m\u001b[38;5;241m.\u001b[39mutils\u001b[38;5;241m.\u001b[39mio\u001b[38;5;241m.\u001b[39mcapture_output() \u001b[38;5;28;01mas\u001b[39;00m captured:\n",
      "\u001b[1;32m     15\u001b[0m     \u001b[38;5;66;03m# Execute the code\u001b[39;00m\n",
      "\u001b[1;32m     16\u001b[0m     out \u001b[38;5;241m=\u001b[39m shell\u001b[38;5;241m.\u001b[39mrun_cell(code)\n",
      "\u001b[1;32m     18\u001b[0m \u001b[38;5;66;03m# captured.stdout contains the standard output\u001b[39;00m\n",
      "\u001b[1;32m     19\u001b[0m \u001b[38;5;66;03m# captured.stderr contains the standard error\u001b[39;00m\n",
      "\u001b[1;32m     20\u001b[0m \u001b[38;5;66;03m# captured.outputs contains display outputs (like from plt.show())\u001b[39;00m\n",
      "\n",
      "\u001b[0;31mNameError\u001b[0m: name 'IPython' is not defined"
     ]
    }
   ],
   "source": [
    "\n",
    "# Code to be executed\n",
    "code = \"\"\"\n",
    "import matplotlib.pyplot as plt\n",
    "import numpy as np\n",
    "import pandas as pd\n",
    "df = pd.DataFrame(np.random.randn(10, 4), columns=list('ABCD'))\n",
    "df\n",
    "\"\"\"\n",
    "\n",
    "# Capture the output of the code execution\n",
    "# output = io.StringIO()\n",
    "# error = io.StringIO()\n",
    "\n",
    "with IPython.utils.io.capture_output() as captured:\n",
    "    # Execute the code\n",
    "    out = shell.run_cell(code)\n",
    "\n",
    "# captured.stdout contains the standard output\n",
    "# captured.stderr contains the standard error\n",
    "# captured.outputs contains display outputs (like from plt.show())\n",
    "\n",
    "print(\"Result of the code execution: \", out.result)\n",
    "print(\"Standard Output:\", captured.stdout)\n",
    "print(\"Standard Error:\", captured.stderr)\n",
    "print(\"Rich Outputs:\", captured.outputs)\n",
    "# For plots or other rich display outputs:\n",
    "if captured.outputs:\n",
    "    for display_output in captured.outputs:\n",
    "        # Process each display output as needed\n",
    "        # For example, display_output.data could contain a plot's image data\n",
    "        pass"
   ]
  },
  {
   "cell_type": "code",
   "execution_count": 33,
   "metadata": {},
   "outputs": [
    {
     "name": "stdout",
     "output_type": "stream",
     "text": [
      "Result of the code execution:  None\n",
      "Standard Output: \n",
      "Standard Error: \n"
     ]
    }
   ],
   "source": [
    "\n",
    "# Create an instance of the IPython kernel\n",
    "shell = InteractiveShell()\n",
    "\n",
    "# Code to be executed\n",
    "code = \"\"\"\n",
    "import matplotlib.pyplot as plt\n",
    "import numpy as np\n",
    "\n",
    "x = np.linspace(0, 10, 100)\n",
    "y = np.sin(x)\n",
    "plt.plot(x, y)\n",
    "plt.show()\n",
    "\"\"\"\n",
    "# note the show command will really send the output to the output.\n",
    "\n",
    "# Capture the output of the code execution\n",
    "output = io.StringIO()\n",
    "error = io.StringIO()\n",
    "\n",
    "with IPython.utils.io.capture_output() as captured:\n",
    "    # Execute the code\n",
    "    out = shell.run_cell(code)\n",
    "\n",
    "# captured.stdout contains the standard output\n",
    "# captured.stderr contains the standard error\n",
    "# captured.outputs contains display outputs (like from plt.show())\n",
    "\n",
    "print(\"Result of the code execution: \", out.result)\n",
    "print(\"Standard Output:\", captured.stdout)\n",
    "print(\"Standard Error:\", captured.stderr)\n",
    "\n",
    "# For plots or other rich display outputs:\n",
    "if captured.outputs:\n",
    "    for display_output in captured.outputs:\n",
    "        # Process each display output as needed\n",
    "        # For example, display_output.data could contain a plot's image data\n",
    "        pass"
   ]
  },
  {
   "cell_type": "code",
   "execution_count": 31,
   "metadata": {},
   "outputs": [],
   "source": [
    "out.result"
   ]
  },
  {
   "cell_type": "code",
   "execution_count": 27,
   "metadata": {},
   "outputs": [
    {
     "data": {
      "text/plain": [
       "IPython.utils.capture.RichOutput"
      ]
     },
     "execution_count": 27,
     "metadata": {},
     "output_type": "execute_result"
    }
   ],
   "source": [
    "type(captured.outputs[0])"
   ]
  },
  {
   "cell_type": "code",
   "execution_count": 14,
   "metadata": {},
   "outputs": [
    {
     "data": {
      "text/plain": [
       "'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'"
      ]
     },
     "execution_count": 14,
     "metadata": {},
     "output_type": "execute_result"
    }
   ],
   "source": [
    "captured.outputs[0].data['image/png']"
   ]
  },
  {
   "cell_type": "code",
   "execution_count": 17,
   "metadata": {},
   "outputs": [],
   "source": [
    "import base64\n",
    "from PIL import Image\n",
    "import numpy as np\n",
    "from io import BytesIO\n",
    "image_data_base64 = captured.outputs[0].data['image/png']\n",
    "# Decode the base64 image data\n",
    "image_data = base64.b64decode(image_data_base64)\n",
    "# Open the image with Pillow\n",
    "image = Image.open(BytesIO(image_data))\n",
    "# Convert the image to a NumPy array\n",
    "image_array = np.array(image)\n",
    "# image"
   ]
  },
  {
   "cell_type": "code",
   "execution_count": 22,
   "metadata": {},
   "outputs": [
    {
     "data": {
      "image/jpeg": "[encoded data removed]",
      "image/png": "[encoded data removed]",
      "text/plain": [
       "<PIL.Image.Image image mode=RGB size=568x413>"
      ]
     },
     "execution_count": 22,
     "metadata": {},
     "output_type": "execute_result"
    }
   ],
   "source": [
    "image.convert('RGB')"
   ]
  },
  {
   "cell_type": "code",
   "execution_count": 44,
   "metadata": {},
   "outputs": [
    {
     "name": "stdout",
     "output_type": "stream",
     "text": [
      "Result of the code execution:  tensor([ 0.0000,  0.1010,  0.2020,  0.3030,  0.4040,  0.5051,  0.6061,  0.7071,\n",
      "         0.8081,  0.9091,  1.0101,  1.1111,  1.2121,  1.3131,  1.4141,  1.5152,\n",
      "         1.6162,  1.7172,  1.8182,  1.9192,  2.0202,  2.1212,  2.2222,  2.3232,\n",
      "         2.4242,  2.5253,  2.6263,  2.7273,  2.8283,  2.9293,  3.0303,  3.1313,\n",
      "         3.2323,  3.3333,  3.4343,  3.5354,  3.6364,  3.7374,  3.8384,  3.9394,\n",
      "         4.0404,  4.1414,  4.2424,  4.3434,  4.4444,  4.5455,  4.6465,  4.7475,\n",
      "         4.8485,  4.9495,  5.0505,  5.1515,  5.2525,  5.3535,  5.4545,  5.5556,\n",
      "         5.6566,  5.7576,  5.8586,  5.9596,  6.0606,  6.1616,  6.2626,  6.3636,\n",
      "         6.4646,  6.5657,  6.6667,  6.7677,  6.8687,  6.9697,  7.0707,  7.1717,\n",
      "         7.2727,  7.3737,  7.4747,  7.5758,  7.6768,  7.7778,  7.8788,  7.9798,\n",
      "         8.0808,  8.1818,  8.2828,  8.3838,  8.4848,  8.5859,  8.6869,  8.7879,\n",
      "         8.8889,  8.9899,  9.0909,  9.1919,  9.2929,  9.3939,  9.4949,  9.5960,\n",
      "         9.6970,  9.7980,  9.8990, 10.0000])\n",
      "Standard Output: Out[1]: \n",
      "tensor([ 0.0000,  0.1010,  0.2020,  0.3030,  0.4040,  0.5051,  0.6061,  0.7071,\n",
      "         0.8081,  0.9091,  1.0101,  1.1111,  1.2121,  1.3131,  1.4141,  1.5152,\n",
      "         1.6162,  1.7172,  1.8182,  1.9192,  2.0202,  2.1212,  2.2222,  2.3232,\n",
      "         2.4242,  2.5253,  2.6263,  2.7273,  2.8283,  2.9293,  3.0303,  3.1313,\n",
      "         3.2323,  3.3333,  3.4343,  3.5354,  3.6364,  3.7374,  3.8384,  3.9394,\n",
      "         4.0404,  4.1414,  4.2424,  4.3434,  4.4444,  4.5455,  4.6465,  4.7475,\n",
      "         4.8485,  4.9495,  5.0505,  5.1515,  5.2525,  5.3535,  5.4545,  5.5556,\n",
      "         5.6566,  5.7576,  5.8586,  5.9596,  6.0606,  6.1616,  6.2626,  6.3636,\n",
      "         6.4646,  6.5657,  6.6667,  6.7677,  6.8687,  6.9697,  7.0707,  7.1717,\n",
      "         7.2727,  7.3737,  7.4747,  7.5758,  7.6768,  7.7778,  7.8788,  7.9798,\n",
      "         8.0808,  8.1818,  8.2828,  8.3838,  8.4848,  8.5859,  8.6869,  8.7879,\n",
      "         8.8889,  8.9899,  9.0909,  9.1919,  9.2929,  9.3939,  9.4949,  9.5960,\n",
      "         9.6970,  9.7980,  9.8990, 10.0000])\n",
      "\n",
      "Standard Error: \n"
     ]
    }
   ],
   "source": [
    "\n",
    "# Code to be executed\n",
    "code = \"\"\"\n",
    "import matplotlib.pyplot as plt\n",
    "import numpy as np\n",
    "import torch\n",
    "\n",
    "torch.manual_seed(0)\n",
    "x_th = torch.linspace(0, 10, 100)\n",
    "x_th\n",
    "\"\"\"\n",
    "\n",
    "# Capture the output of the code execution\n",
    "# output = io.StringIO()\n",
    "# error = io.StringIO()\n",
    "\n",
    "with IPython.utils.io.capture_output() as captured:\n",
    "    # Execute the code\n",
    "    out = shell.run_cell(code)\n",
    "\n",
    "# captured.stdout contains the standard output\n",
    "# captured.stderr contains the standard error\n",
    "# captured.outputs contains display outputs (like from plt.show())\n",
    "\n",
    "print(\"Result of the code execution: \", out.result)\n",
    "print(\"Standard Output:\", captured.stdout)\n",
    "print(\"Standard Error:\", captured.stderr)\n",
    "print(\"Captured Outputs:\", captured.outputs)\n",
    "# For plots or other rich display outputs:\n",
    "disp_images = []\n",
    "if captured.outputs:\n",
    "    for display_output in captured.outputs:\n",
    "        # Process each display output as needed\n",
    "        # For example, display_output.data could contain a plot's image data\n",
    "        disp_images.append(richoutput_to_image(display_output))"
   ]
  },
  {
   "cell_type": "code",
   "execution_count": 41,
   "metadata": {},
   "outputs": [
    {
     "data": {
      "text/plain": [
       "[]"
      ]
     },
     "execution_count": 41,
     "metadata": {},
     "output_type": "execute_result"
    }
   ],
   "source": [
    "captured.outputs"
   ]
  },
  {
   "cell_type": "code",
   "execution_count": 39,
   "metadata": {},
   "outputs": [
    {
     "data": {
      "text/plain": [
       "pandas.core.frame.DataFrame"
      ]
     },
     "execution_count": 39,
     "metadata": {},
     "output_type": "execute_result"
    }
   ],
   "source": [
    "type(out.result)"
   ]
  },
  {
   "cell_type": "code",
   "execution_count": null,
   "metadata": {},
   "outputs": [],
   "source": []
  },
  {
   "cell_type": "code",
   "execution_count": null,
   "metadata": {},
   "outputs": [],
   "source": [
    "shell2 = InteractiveShell()"
   ]
  },
  {
   "cell_type": "code",
   "execution_count": 5,
   "metadata": {},
   "outputs": [
    {
     "data": {
      "text/plain": [
       "{'__name__': '__main__',\n",
       " '__doc__': 'Automatically created module for IPython interactive environment',\n",
       " '__package__': None,\n",
       " '__loader__': None,\n",
       " '__spec__': None,\n",
       " '__builtin__': <module 'builtins' (built-in)>,\n",
       " '__builtins__': <module 'builtins' (built-in)>,\n",
       " '_ih': [''],\n",
       " '_oh': {},\n",
       " '_dh': [PosixPath('/Users/binxuwang/Github/openai-gpt-playground')],\n",
       " 'In': [''],\n",
       " 'Out': {},\n",
       " 'get_ipython': <bound method InteractiveShell.get_ipython of <IPython.core.interactiveshell.InteractiveShell object at 0x10c1bc1d0>>,\n",
       " 'exit': <IPython.core.autocall.ExitAutocall at 0x11b1b7690>,\n",
       " 'quit': <IPython.core.autocall.ExitAutocall at 0x11b1b7690>,\n",
       " 'open': <function io.open(file, mode='r', buffering=-1, encoding=None, errors=None, newline=None, closefd=True, opener=None)>,\n",
       " '_': '',\n",
       " '__': '',\n",
       " '___': ''}"
      ]
     },
     "execution_count": 5,
     "metadata": {},
     "output_type": "execute_result"
    }
   ],
   "source": [
    "shell2.user_ns"
   ]
  },
  {
   "cell_type": "code",
   "execution_count": 3,
   "metadata": {},
   "outputs": [
    {
     "data": {
      "text/plain": [
       "[]"
      ]
     },
     "execution_count": 3,
     "metadata": {},
     "output_type": "execute_result"
    }
   ],
   "source": [
    "captured.outputs"
   ]
  },
  {
   "cell_type": "code",
   "execution_count": 6,
   "metadata": {},
   "outputs": [
    {
     "data": {
      "text/plain": [
       "{'__name__': '__main__',\n",
       " '__doc__': 'Automatically created module for IPython interactive environment',\n",
       " '__package__': None,\n",
       " '__loader__': None,\n",
       " '__spec__': None,\n",
       " '__builtin__': <module 'builtins' (built-in)>,\n",
       " '__builtins__': <module 'builtins' (built-in)>,\n",
       " '_ih': [''],\n",
       " '_oh': {1: [<matplotlib.lines.Line2D at 0x11b15fa50>]},\n",
       " '_dh': [PosixPath('/Users/binxuwang/Github/openai-gpt-playground')],\n",
       " 'In': [''],\n",
       " 'Out': {1: [<matplotlib.lines.Line2D at 0x11b15fa50>]},\n",
       " 'get_ipython': <bound method InteractiveShell.get_ipython of <IPython.core.interactiveshell.InteractiveShell object at 0x10c199a50>>,\n",
       " 'exit': <IPython.core.autocall.ExitAutocall at 0x10c19f490>,\n",
       " 'quit': <IPython.core.autocall.ExitAutocall at 0x10c19f490>,\n",
       " 'open': <function io.open(file, mode='r', buffering=-1, encoding=None, errors=None, newline=None, closefd=True, opener=None)>,\n",
       " '_': [<matplotlib.lines.Line2D at 0x11b15fa50>],\n",
       " '__': '',\n",
       " '___': '',\n",
       " 'plt': <module 'matplotlib.pyplot' from '/Users/binxuwang/miniforge3/envs/torch/lib/python3.11/site-packages/matplotlib/pyplot.py'>,\n",
       " 'np': <module 'numpy' from '/Users/binxuwang/miniforge3/envs/torch/lib/python3.11/site-packages/numpy/__init__.py'>,\n",
       " 'x': array([ 0.        ,  0.1010101 ,  0.2020202 ,  0.3030303 ,  0.4040404 ,\n",
       "         0.50505051,  0.60606061,  0.70707071,  0.80808081,  0.90909091,\n",
       "         1.01010101,  1.11111111,  1.21212121,  1.31313131,  1.41414141,\n",
       "         1.51515152,  1.61616162,  1.71717172,  1.81818182,  1.91919192,\n",
       "         2.02020202,  2.12121212,  2.22222222,  2.32323232,  2.42424242,\n",
       "         2.52525253,  2.62626263,  2.72727273,  2.82828283,  2.92929293,\n",
       "         3.03030303,  3.13131313,  3.23232323,  3.33333333,  3.43434343,\n",
       "         3.53535354,  3.63636364,  3.73737374,  3.83838384,  3.93939394,\n",
       "         4.04040404,  4.14141414,  4.24242424,  4.34343434,  4.44444444,\n",
       "         4.54545455,  4.64646465,  4.74747475,  4.84848485,  4.94949495,\n",
       "         5.05050505,  5.15151515,  5.25252525,  5.35353535,  5.45454545,\n",
       "         5.55555556,  5.65656566,  5.75757576,  5.85858586,  5.95959596,\n",
       "         6.06060606,  6.16161616,  6.26262626,  6.36363636,  6.46464646,\n",
       "         6.56565657,  6.66666667,  6.76767677,  6.86868687,  6.96969697,\n",
       "         7.07070707,  7.17171717,  7.27272727,  7.37373737,  7.47474747,\n",
       "         7.57575758,  7.67676768,  7.77777778,  7.87878788,  7.97979798,\n",
       "         8.08080808,  8.18181818,  8.28282828,  8.38383838,  8.48484848,\n",
       "         8.58585859,  8.68686869,  8.78787879,  8.88888889,  8.98989899,\n",
       "         9.09090909,  9.19191919,  9.29292929,  9.39393939,  9.49494949,\n",
       "         9.5959596 ,  9.6969697 ,  9.7979798 ,  9.8989899 , 10.        ]),\n",
       " 'y': array([ 0.        ,  0.10083842,  0.20064886,  0.2984138 ,  0.39313661,\n",
       "         0.48385164,  0.56963411,  0.64960951,  0.72296256,  0.78894546,\n",
       "         0.84688556,  0.8961922 ,  0.93636273,  0.96698762,  0.98775469,\n",
       "         0.99845223,  0.99897117,  0.98930624,  0.96955595,  0.93992165,\n",
       "         0.90070545,  0.85230712,  0.79522006,  0.73002623,  0.65739025,\n",
       "         0.57805259,  0.49282204,  0.40256749,  0.30820902,  0.21070855,\n",
       "         0.11106004,  0.01027934, -0.09060615, -0.19056796, -0.28858706,\n",
       "        -0.38366419, -0.47483011, -0.56115544, -0.64176014, -0.7158225 ,\n",
       "        -0.7825875 , -0.84137452, -0.89158426, -0.93270486, -0.96431712,\n",
       "        -0.98609877, -0.99782778, -0.99938456, -0.99075324, -0.97202182,\n",
       "        -0.94338126, -0.90512352, -0.85763861, -0.80141062, -0.73701276,\n",
       "        -0.66510151, -0.58640998, -0.50174037, -0.41195583, -0.31797166,\n",
       "        -0.22074597, -0.12126992, -0.0205576 ,  0.0803643 ,  0.18046693,\n",
       "         0.27872982,  0.37415123,  0.46575841,  0.55261747,  0.63384295,\n",
       "         0.7086068 ,  0.77614685,  0.83577457,  0.8868821 ,  0.92894843,\n",
       "         0.96154471,  0.98433866,  0.99709789,  0.99969234,  0.99209556,\n",
       "         0.97438499,  0.94674118,  0.90944594,  0.86287948,  0.8075165 ,\n",
       "         0.74392141,  0.6727425 ,  0.59470541,  0.51060568,  0.42130064,\n",
       "         0.32770071,  0.23076008,  0.13146699,  0.03083368, -0.07011396,\n",
       "        -0.17034683, -0.26884313, -0.36459873, -0.45663749, -0.54402111]),\n",
       " '_1': [<matplotlib.lines.Line2D at 0x11b15fa50>]}"
      ]
     },
     "execution_count": 6,
     "metadata": {},
     "output_type": "execute_result"
    }
   ],
   "source": [
    "shell.user_ns"
   ]
  },
  {
   "cell_type": "code",
   "execution_count": 7,
   "metadata": {},
   "outputs": [
    {
     "data": {
      "text/plain": [
       "{'__name__': '__main__',\n",
       " '__doc__': 'Automatically created module for IPython interactive environment',\n",
       " '__package__': None,\n",
       " '__loader__': None,\n",
       " '__spec__': None,\n",
       " '__builtin__': <module 'builtins' (built-in)>,\n",
       " '__builtins__': <module 'builtins' (built-in)>,\n",
       " '_ih': [''],\n",
       " '_oh': {1: [<matplotlib.lines.Line2D at 0x11b15fa50>]},\n",
       " '_dh': [PosixPath('/Users/binxuwang/Github/openai-gpt-playground')],\n",
       " 'In': [''],\n",
       " 'Out': {1: [<matplotlib.lines.Line2D at 0x11b15fa50>]},\n",
       " 'get_ipython': <bound method InteractiveShell.get_ipython of <IPython.core.interactiveshell.InteractiveShell object at 0x10c199a50>>,\n",
       " 'exit': <IPython.core.autocall.ExitAutocall at 0x10c19f490>,\n",
       " 'quit': <IPython.core.autocall.ExitAutocall at 0x10c19f490>,\n",
       " 'open': <function io.open(file, mode='r', buffering=-1, encoding=None, errors=None, newline=None, closefd=True, opener=None)>,\n",
       " '_': [<matplotlib.lines.Line2D at 0x11b15fa50>],\n",
       " '__': '',\n",
       " '___': '',\n",
       " 'plt': <module 'matplotlib.pyplot' from '/Users/binxuwang/miniforge3/envs/torch/lib/python3.11/site-packages/matplotlib/pyplot.py'>,\n",
       " 'np': <module 'numpy' from '/Users/binxuwang/miniforge3/envs/torch/lib/python3.11/site-packages/numpy/__init__.py'>,\n",
       " 'x': array([ 0.        ,  0.1010101 ,  0.2020202 ,  0.3030303 ,  0.4040404 ,\n",
       "         0.50505051,  0.60606061,  0.70707071,  0.80808081,  0.90909091,\n",
       "         1.01010101,  1.11111111,  1.21212121,  1.31313131,  1.41414141,\n",
       "         1.51515152,  1.61616162,  1.71717172,  1.81818182,  1.91919192,\n",
       "         2.02020202,  2.12121212,  2.22222222,  2.32323232,  2.42424242,\n",
       "         2.52525253,  2.62626263,  2.72727273,  2.82828283,  2.92929293,\n",
       "         3.03030303,  3.13131313,  3.23232323,  3.33333333,  3.43434343,\n",
       "         3.53535354,  3.63636364,  3.73737374,  3.83838384,  3.93939394,\n",
       "         4.04040404,  4.14141414,  4.24242424,  4.34343434,  4.44444444,\n",
       "         4.54545455,  4.64646465,  4.74747475,  4.84848485,  4.94949495,\n",
       "         5.05050505,  5.15151515,  5.25252525,  5.35353535,  5.45454545,\n",
       "         5.55555556,  5.65656566,  5.75757576,  5.85858586,  5.95959596,\n",
       "         6.06060606,  6.16161616,  6.26262626,  6.36363636,  6.46464646,\n",
       "         6.56565657,  6.66666667,  6.76767677,  6.86868687,  6.96969697,\n",
       "         7.07070707,  7.17171717,  7.27272727,  7.37373737,  7.47474747,\n",
       "         7.57575758,  7.67676768,  7.77777778,  7.87878788,  7.97979798,\n",
       "         8.08080808,  8.18181818,  8.28282828,  8.38383838,  8.48484848,\n",
       "         8.58585859,  8.68686869,  8.78787879,  8.88888889,  8.98989899,\n",
       "         9.09090909,  9.19191919,  9.29292929,  9.39393939,  9.49494949,\n",
       "         9.5959596 ,  9.6969697 ,  9.7979798 ,  9.8989899 , 10.        ]),\n",
       " 'y': array([ 0.        ,  0.10083842,  0.20064886,  0.2984138 ,  0.39313661,\n",
       "         0.48385164,  0.56963411,  0.64960951,  0.72296256,  0.78894546,\n",
       "         0.84688556,  0.8961922 ,  0.93636273,  0.96698762,  0.98775469,\n",
       "         0.99845223,  0.99897117,  0.98930624,  0.96955595,  0.93992165,\n",
       "         0.90070545,  0.85230712,  0.79522006,  0.73002623,  0.65739025,\n",
       "         0.57805259,  0.49282204,  0.40256749,  0.30820902,  0.21070855,\n",
       "         0.11106004,  0.01027934, -0.09060615, -0.19056796, -0.28858706,\n",
       "        -0.38366419, -0.47483011, -0.56115544, -0.64176014, -0.7158225 ,\n",
       "        -0.7825875 , -0.84137452, -0.89158426, -0.93270486, -0.96431712,\n",
       "        -0.98609877, -0.99782778, -0.99938456, -0.99075324, -0.97202182,\n",
       "        -0.94338126, -0.90512352, -0.85763861, -0.80141062, -0.73701276,\n",
       "        -0.66510151, -0.58640998, -0.50174037, -0.41195583, -0.31797166,\n",
       "        -0.22074597, -0.12126992, -0.0205576 ,  0.0803643 ,  0.18046693,\n",
       "         0.27872982,  0.37415123,  0.46575841,  0.55261747,  0.63384295,\n",
       "         0.7086068 ,  0.77614685,  0.83577457,  0.8868821 ,  0.92894843,\n",
       "         0.96154471,  0.98433866,  0.99709789,  0.99969234,  0.99209556,\n",
       "         0.97438499,  0.94674118,  0.90944594,  0.86287948,  0.8075165 ,\n",
       "         0.74392141,  0.6727425 ,  0.59470541,  0.51060568,  0.42130064,\n",
       "         0.32770071,  0.23076008,  0.13146699,  0.03083368, -0.07011396,\n",
       "        -0.17034683, -0.26884313, -0.36459873, -0.45663749, -0.54402111]),\n",
       " '_1': [<matplotlib.lines.Line2D at 0x11b15fa50>]}"
      ]
     },
     "execution_count": 7,
     "metadata": {},
     "output_type": "execute_result"
    }
   ],
   "source": [
    "shell.user_global_ns"
   ]
  },
  {
   "cell_type": "code",
   "execution_count": 17,
   "metadata": {},
   "outputs": [
    {
     "data": {
      "text/plain": [
       "{'self': <ipykernel.zmqshell.ZMQInteractiveShell at 0x1059da110>,\n",
       " 'nodelist': [<ast.Expr at 0x10f439150>],\n",
       " 'cell_name': '/var/folders/zc/krgdt7x11zvc_h0tv7k3mfdh0000gq/T/ipykernel_3898/2924406766.py',\n",
       " 'interactivity': 'last',\n",
       " 'compiler': <ipykernel.compiler.XCachingCompiler at 0x104cc0f50>,\n",
       " 'result': <ExecutionResult object at 13a29dbd0, execution_count=17 error_before_exec=None error_in_exec=None info=<ExecutionInfo object at 13a258ad0, raw_cell=\"shell.get_local_scope(2)\" store_history=True silent=False shell_futures=True cell_id=vscode-notebook-cell:Untitled-1.ipynb?jupyter-notebook#X10sdW50aXRsZWQ%3D> result=None>,\n",
       " '_async': False,\n",
       " 'to_run_exec': [],\n",
       " 'to_run_interactive': [<ast.Expr at 0x10f439150>],\n",
       " 'compare': <function IPython.core.interactiveshell.InteractiveShell.run_ast_nodes.<locals>.compare(code)>,\n",
       " 'to_run': [(<ast.Expr at 0x10f439150>, 'single')],\n",
       " 'node': <ast.Expr at 0x10f439150>,\n",
       " 'mode': 'single',\n",
       " 'mod': <ast.Interactive at 0x10f438f70>,\n",
       " 'code': <code object <module> at 0x13a2bc4e0, file \"/var/folders/zc/krgdt7x11zvc_h0tv7k3mfdh0000gq/T/ipykernel_3898/2924406766.py\", line 1>,\n",
       " 'asy': False}"
      ]
     },
     "execution_count": 17,
     "metadata": {},
     "output_type": "execute_result"
    }
   ],
   "source": [
    "shell.get_local_scope(2)"
   ]
  },
  {
   "cell_type": "code",
   "execution_count": 19,
   "metadata": {},
   "outputs": [
    {
     "data": {
      "text/plain": [
       "array([ 0.        ,  0.1010101 ,  0.2020202 ,  0.3030303 ,  0.4040404 ,\n",
       "        0.50505051,  0.60606061,  0.70707071,  0.80808081,  0.90909091,\n",
       "        1.01010101,  1.11111111,  1.21212121,  1.31313131,  1.41414141,\n",
       "        1.51515152,  1.61616162,  1.71717172,  1.81818182,  1.91919192,\n",
       "        2.02020202,  2.12121212,  2.22222222,  2.32323232,  2.42424242,\n",
       "        2.52525253,  2.62626263,  2.72727273,  2.82828283,  2.92929293,\n",
       "        3.03030303,  3.13131313,  3.23232323,  3.33333333,  3.43434343,\n",
       "        3.53535354,  3.63636364,  3.73737374,  3.83838384,  3.93939394,\n",
       "        4.04040404,  4.14141414,  4.24242424,  4.34343434,  4.44444444,\n",
       "        4.54545455,  4.64646465,  4.74747475,  4.84848485,  4.94949495,\n",
       "        5.05050505,  5.15151515,  5.25252525,  5.35353535,  5.45454545,\n",
       "        5.55555556,  5.65656566,  5.75757576,  5.85858586,  5.95959596,\n",
       "        6.06060606,  6.16161616,  6.26262626,  6.36363636,  6.46464646,\n",
       "        6.56565657,  6.66666667,  6.76767677,  6.86868687,  6.96969697,\n",
       "        7.07070707,  7.17171717,  7.27272727,  7.37373737,  7.47474747,\n",
       "        7.57575758,  7.67676768,  7.77777778,  7.87878788,  7.97979798,\n",
       "        8.08080808,  8.18181818,  8.28282828,  8.38383838,  8.48484848,\n",
       "        8.58585859,  8.68686869,  8.78787879,  8.88888889,  8.98989899,\n",
       "        9.09090909,  9.19191919,  9.29292929,  9.39393939,  9.49494949,\n",
       "        9.5959596 ,  9.6969697 ,  9.7979798 ,  9.8989899 , 10.        ])"
      ]
     },
     "execution_count": 19,
     "metadata": {},
     "output_type": "execute_result"
    }
   ],
   "source": [
    "shell.user_ns['x']"
   ]
  },
  {
   "cell_type": "code",
   "execution_count": 14,
   "metadata": {},
   "outputs": [
    {
     "data": {
      "text/plain": [
       "[<matplotlib.lines.Line2D at 0x10f31d090>]"
      ]
     },
     "execution_count": 14,
     "metadata": {},
     "output_type": "execute_result"
    }
   ],
   "source": [
    "out.result"
   ]
  },
  {
   "cell_type": "code",
   "execution_count": 8,
   "metadata": {},
   "outputs": [
    {
     "data": {
      "text/plain": [
       "[]"
      ]
     },
     "execution_count": 8,
     "metadata": {},
     "output_type": "execute_result"
    }
   ],
   "source": [
    "captured.outputs"
   ]
  },
  {
   "cell_type": "code",
   "execution_count": null,
   "metadata": {},
   "outputs": [],
   "source": []
  }
 ],
 "metadata": {
  "kernelspec": {
   "display_name": "torch",
   "language": "python",
   "name": "python3"
  },
  "language_info": {
   "codemirror_mode": {
    "name": "ipython",
    "version": 3
   },
   "file_extension": ".py",
   "mimetype": "text/x-python",
   "name": "python",
   "nbconvert_exporter": "python",
   "pygments_lexer": "ipython3",
   "version": "3.11.6"
  }
 },
 "nbformat": 4,
 "nbformat_minor": 2
}
